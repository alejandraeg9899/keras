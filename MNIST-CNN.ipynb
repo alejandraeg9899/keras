{
 "cells": [
  {
   "cell_type": "markdown",
   "metadata": {},
   "source": [
    "## ** Red Neuronal Convolucional**\n",
    "\n",
    "**Modelo de una red neuronal**\n",
    "\n",
    "\n",
    "* La primera capa es una capa oculta convolucional llamado Convolution2D. La capa tiene 32 mapas de características, con el tamaño de 5 x 5 y una función de activación rectificador. Esta es la capa de entrada, que espera imagenes con el esquema de [pixeles] [anchura] [altura].\n",
    "\n",
    "\n",
    "* A continuación se define una capa de pooling que se lleva al máximo MaxPooling2D. Se configura con un tamaño de la pool de 2 × 2.\n",
    "\n",
    "\n",
    "\n",
    "* La siguiente capa es una capa de regularizacion llamada Dropout. Está configurado para excluir al azar 20% de las neuronas en la capa con el fin de reducir overfitting.\n",
    "\n",
    "\n",
    "* La siguiente es una capa que convierte los datos de la matriz 2D a un vector plano. Permite que la salida sea procesada por una capa totalmente conectada.\n",
    "\n",
    "\n",
    "* La siguiente es una capa totalmente conectada, con 128 neuronas y función de activación.\n",
    "\n",
    "\n",
    "* Finalmente, la capa de salida tiene 10 neuronas para las 10 clases y una función de activación softmax para ṕredicciones basadas en probabilidad para cada clase."
   ]
  },
  {
   "cell_type": "code",
   "execution_count": 3,
   "metadata": {
    "collapsed": false
   },
   "outputs": [],
   "source": [
    "import numpy\n",
    "from keras.datasets import mnist\n",
    "from keras.models import Sequential\n",
    "from keras.layers import Dense\n",
    "from keras.layers import Dropout\n",
    "from keras.layers import Flatten\n",
    "from keras.layers.convolutional import Conv2D\n",
    "from keras.layers.convolutional import MaxPooling2D\n",
    "from keras.utils import np_utils\n",
    "from keras import backend as K\n",
    "K.set_image_dim_ordering('th')\n",
    "from keras.utils import plot_model"
   ]
  },
  {
   "cell_type": "code",
   "execution_count": 2,
   "metadata": {
    "collapsed": false
   },
   "outputs": [
    {
     "name": "stdout",
     "output_type": "stream",
     "text": [
      "Train on 60000 samples, validate on 10000 samples\n",
      "Epoch 1/10\n",
      "86s - loss: 0.2311 - acc: 0.9344 - val_loss: 0.0829 - val_acc: 0.9742\n",
      "Epoch 2/10\n",
      "90s - loss: 0.0737 - acc: 0.9779 - val_loss: 0.0465 - val_acc: 0.9841\n",
      "Epoch 3/10\n",
      "91s - loss: 0.0532 - acc: 0.9838 - val_loss: 0.0431 - val_acc: 0.9858\n",
      "Epoch 4/10\n",
      "91s - loss: 0.0401 - acc: 0.9878 - val_loss: 0.0408 - val_acc: 0.9862\n",
      "Epoch 5/10\n",
      "90s - loss: 0.0336 - acc: 0.9893 - val_loss: 0.0346 - val_acc: 0.9885\n",
      "Epoch 6/10\n",
      "89s - loss: 0.0273 - acc: 0.9915 - val_loss: 0.0311 - val_acc: 0.9894\n",
      "Epoch 7/10\n",
      "90s - loss: 0.0230 - acc: 0.9928 - val_loss: 0.0352 - val_acc: 0.9881\n",
      "Epoch 8/10\n",
      "90s - loss: 0.0202 - acc: 0.9935 - val_loss: 0.0315 - val_acc: 0.9892\n",
      "Epoch 9/10\n",
      "87s - loss: 0.0165 - acc: 0.9947 - val_loss: 0.0295 - val_acc: 0.9897\n",
      "Epoch 10/10\n",
      "88s - loss: 0.0139 - acc: 0.9961 - val_loss: 0.0322 - val_acc: 0.9903\n",
      "Baseline Error: 0.97%\n"
     ]
    }
   ],
   "source": [
    "#Se fija un valor para el generador de numeros aleatorios\n",
    "seed = 7\n",
    "numpy.random.seed(seed)\n",
    "\n",
    "\n",
    "#Leer datos del archivo MNIST con Keras\n",
    "(X_train, y_train), (X_test, y_test) = mnist.load_data()\n",
    "#Se carga el conjunto de datos remodelandolo para que sea adecuado para CNN\n",
    "#Espera valores con [pixels] [anchura] [altura], pixel se estable como 1 en escala de grises\n",
    "X_train = X_train.reshape(X_train.shape[0], 1, 28, 28).astype('float32')\n",
    "X_test = X_test.reshape(X_test.shape[0], 1, 28, 28).astype('float32')\n",
    "\n",
    "\n",
    "'''\n",
    "Los valores de los pixeles en escala de grises es de 0-255\n",
    "Debido a que la escala es bien comportada, puede ser normalizada con valores de 0-1;\n",
    "diviendo por el valor de 255\n",
    "'''\n",
    "X_train = X_train / 255\n",
    "X_test = X_test / 255\n",
    "\n",
    "\n",
    "#Se transforma el vector de enteros a una matriz binaria, para lo caul utilizamos np_utils.to_categorial() de Keras\n",
    "y_train = np_utils.to_categorical(y_train)\n",
    "y_test = np_utils.to_categorical(y_test)\n",
    "num_classes = y_test.shape[1]\n",
    "\n",
    "\n",
    "#Es entrenad utilizando descenso por la gradiente adam\n",
    "def baseline_model():\n",
    "\t# create model\n",
    "\tmodel = Sequential()\n",
    "\tmodel.add(Conv2D(32, (5, 5), input_shape=(1, 28, 28), activation='relu'))\n",
    "\tmodel.add(MaxPooling2D(pool_size=(2, 2)))\n",
    "\tmodel.add(Dropout(0.2))\n",
    "\tmodel.add(Flatten())\n",
    "\tmodel.add(Dense(128, activation='relu'))\n",
    "\tmodel.add(Dense(num_classes, activation='softmax'))\n",
    "\t# Compile model\n",
    "\tmodel.compile(loss='categorical_crossentropy', optimizer='adam', metrics=['accuracy'])\n",
    "\treturn model\n",
    "\n",
    "\n",
    "# Construccion del modelo\n",
    "model = baseline_model()\n",
    "# Ajustando el modelo, 10 epocas, con 200 imagenes, \n",
    "model.fit(X_train, y_train, validation_data=(X_test, y_test), epochs=10, batch_size=200, verbose=2)\n",
    "# Evaluacion final del modelo\n",
    "scores = model.evaluate(X_test, y_test, verbose=0)\n",
    "print(\"Baseline Error: %.2f%%\" % (100-scores[1]*100))\n"
   ]
  },
  {
   "cell_type": "code",
   "execution_count": 6,
   "metadata": {
    "collapsed": true
   },
   "outputs": [],
   "source": [
    "plot_model(model, to_file='model3.png', show_shapes=True)"
   ]
  },
  {
   "cell_type": "markdown",
   "metadata": {},
   "source": [
    "![](model2.png)"
   ]
  },
  {
   "cell_type": "code",
   "execution_count": null,
   "metadata": {
    "collapsed": true
   },
   "outputs": [],
   "source": []
  }
 ],
 "metadata": {
  "anaconda-cloud": {},
  "kernelspec": {
   "display_name": "Python [conda root]",
   "language": "python",
   "name": "conda-root-py"
  },
  "language_info": {
   "codemirror_mode": {
    "name": "ipython",
    "version": 2
   },
   "file_extension": ".py",
   "mimetype": "text/x-python",
   "name": "python",
   "nbconvert_exporter": "python",
   "pygments_lexer": "ipython2",
   "version": "2.7.13"
  }
 },
 "nbformat": 4,
 "nbformat_minor": 2
}
