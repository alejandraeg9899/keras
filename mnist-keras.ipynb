{
 "cells": [
  {
   "cell_type": "markdown",
   "metadata": {},
   "source": [
    "## **Cargar el conjunto de datos MNIST en Keras**\n",
    "\n",
    "Carga cuatro imagenes; sus valores son de **0 - 9**\n",
    "\n",
    "\n",
    "plt.subplot(filas columnas imagen)"
   ]
  },
  {
   "cell_type": "code",
   "execution_count": 44,
   "metadata": {
    "collapsed": false
   },
   "outputs": [
    {
     "data": {
      "image/png": "[encoded data removed]",
      "text/plain": [
       "<matplotlib.figure.Figure at 0x7f9f454957d0>"
      ]
     },
     "metadata": {},
     "output_type": "display_data"
    }
   ],
   "source": [
    "#Plot ad hoc mnist instances\n",
    "from keras.datasets import mnist\n",
    "import matplotlib.pyplot as plt\n",
    "# load (downloaded if needed) the MNIST dataset\n",
    "(X_train, y_train), (X_test, y_test) = mnist.load_data()\n",
    "\n",
    "# imagenes a dibujar\n",
    "plt.subplot(221)\n",
    "plt.imshow(X_train[1], cmap=plt.get_cmap('gray')) #primer valor\n",
    "plt.subplot(222)\n",
    "plt.imshow(X_train[700], cmap=plt.get_cmap('gray')) #segundo valor\n",
    "plt.subplot(223)\n",
    "plt.imshow(X_train[2], cmap=plt.get_cmap('gray')) #tercer valor\n",
    "plt.subplot(224)\n",
    "plt.imshow(X_train[2], cmap=plt.get_cmap('gray')) #cuarto valor\n",
    "plt.show()"
   ]
  },
  {
   "cell_type": "markdown",
   "metadata": {},
   "source": [
    "## **Modelo de base con perceptrones multicapa**\n",
    "\n",
    "\n",
    "**¿Realmete se necesita una red neuronal convolucional para obtener bueno resultados con MNITS?**\n",
    "\n",
    "Es más sencillo utilizar una red neuronal simple que una red convolucional.\n",
    "\n",
    "\n",
    "\n",
    "Para este ejemplo se utilizara un sencillo modelo de perceptrón de multiples capas que consigue una tasa de eror de 1.74%.\n",
    "\n",
    "\n",
    "Este tambien require un vector que en este caso sera de 784 entradas.\n",
    "\n",
    "\n",
    "La presicion utilizada por Keras es de 32 bits."
   ]
  },
  {
   "cell_type": "code",
   "execution_count": 7,
   "metadata": {
    "collapsed": false
   },
   "outputs": [
    {
     "name": "stdout",
     "output_type": "stream",
     "text": [
      "Train on 60000 samples, validate on 10000 samples\n",
      "Epoch 1/10\n",
      "9s - loss: 0.2781 - acc: 0.9212 - val_loss: 0.1416 - val_acc: 0.9574\n",
      "Epoch 2/10\n",
      "8s - loss: 0.1116 - acc: 0.9675 - val_loss: 0.0921 - val_acc: 0.9706\n",
      "Epoch 3/10\n",
      "8s - loss: 0.0720 - acc: 0.9795 - val_loss: 0.0791 - val_acc: 0.9764\n",
      "Epoch 4/10\n",
      "8s - loss: 0.0506 - acc: 0.9857 - val_loss: 0.0737 - val_acc: 0.9769\n",
      "Epoch 5/10\n",
      "8s - loss: 0.0375 - acc: 0.9895 - val_loss: 0.0684 - val_acc: 0.9791\n",
      "Epoch 6/10\n",
      "8s - loss: 0.0270 - acc: 0.9925 - val_loss: 0.0627 - val_acc: 0.9803\n",
      "Epoch 7/10\n",
      "9s - loss: 0.0211 - acc: 0.9949 - val_loss: 0.0616 - val_acc: 0.9808\n",
      "Epoch 8/10\n",
      "8s - loss: 0.0142 - acc: 0.9967 - val_loss: 0.0628 - val_acc: 0.9800\n",
      "Epoch 9/10\n",
      "8s - loss: 0.0111 - acc: 0.9977 - val_loss: 0.0588 - val_acc: 0.9815\n",
      "Epoch 10/10\n",
      "9s - loss: 0.0078 - acc: 0.9986 - val_loss: 0.0569 - val_acc: 0.9819\n",
      "Baseline Error: 1.81%\n"
     ]
    }
   ],
   "source": [
    "#importacion de clases y funciones que se utilizaran\n",
    "import numpy\n",
    "from keras.datasets import mnist\n",
    "from keras.models import Sequential\n",
    "from keras.layers import Dense\n",
    "from keras.layers import Dropout\n",
    "from keras.utils import np_utils\n",
    "from keras.utils import plot_model\n",
    "\n",
    "\n",
    "# se fija un valor para el generador de numeros aleatorios\n",
    "seed = 7\n",
    "numpy.random.seed(seed)\n",
    "\n",
    "\n",
    "# leer datos del archivo MNIST con Keras\n",
    "(X_train, y_train), (X_test, y_test) = mnist.load_data()\n",
    "\n",
    "\n",
    "# aplana la imagen 28*28 a un vector 784 para cada imagen.\n",
    "# se reducen las necesidades de memoria, forzando la presicion de los valores de los pixeles a ser de 32 bits.\n",
    "# shape devuelve la dimension de la matriz\n",
    "num_pixels = X_train.shape[1] * X_train.shape[2]\n",
    "X_train = X_train.reshape(X_train.shape[0], num_pixels).astype('float32')\n",
    "X_test = X_test.reshape(X_test.shape[0], num_pixels).astype('float32')\n",
    "\n",
    "\n",
    "'''\n",
    "Los valores de los pixeles en escala de grises es de 0-255\n",
    "Debido a que la escala es bien comportada, puede ser normalizada con valores de 0-1;\n",
    "diviendo por el valor de 255\n",
    "'''\n",
    "X_train = X_train / 255\n",
    "X_test = X_test / 255\n",
    "\n",
    "\n",
    "#Se transforma el vector de enteros a una matriz binaria, para lo caul utilizamos np_utils.to_categorial() de Keras\n",
    "y_train = np_utils.to_categorical(y_train)\n",
    "y_test = np_utils.to_categorical(y_test)\n",
    "num_classes = y_test.shape[1]\n",
    "\n",
    "\n",
    "#Modelo de una Red Neuronal\n",
    "def baseline_model():\n",
    "\t# create model\n",
    "\tmodel = Sequential()\n",
    "\tmodel.add(Dense(num_pixels, input_dim=num_pixels, kernel_initializer='normal', activation='relu'))\n",
    "    #Utiliza softmax para convertir los valores de salida en valores de probabilidad\n",
    "\tmodel.add(Dense(num_classes, kernel_initializer='normal', activation='softmax'))\n",
    "\t# Compile model, descenso por la gradiente (adam) se utiliza para aprender los pesos\n",
    "\tmodel.compile(loss='categorical_crossentropy', optimizer='adam', metrics=['accuracy'])\n",
    "\treturn model\n",
    "\n",
    "\n",
    "# Construccion del modelo\n",
    "model = baseline_model()\n",
    "# Ajustando el modelo, 10 epocas, con 200 imagenes, \n",
    "model.fit(X_train, y_train, validation_data=(X_test, y_test), epochs=10, batch_size=200, verbose=2)\n",
    "# Evaluacion final del modelo\n",
    "scores = model.evaluate(X_test, y_test, verbose=0)\n",
    "print(\"Baseline Error: %.2f%%\" % (100-scores[1]*100))\n",
    "\n",
    "plot_model(model, to_file='model2.png', show_shapes=True)\n",
    "\n",
    "#Los datos de prueba se utilizan para evaluar el modelo y se imprime una tasa de error de clasifiacion"
   ]
  },
  {
   "cell_type": "markdown",
   "metadata": {
    "collapsed": true
   },
   "source": [
    "![](model2.png)"
   ]
  },
  {
   "cell_type": "code",
   "execution_count": null,
   "metadata": {
    "collapsed": true
   },
   "outputs": [],
   "source": [
    "#![](model2.png)"
   ]
  }
 ],
 "metadata": {
  "anaconda-cloud": {},
  "kernelspec": {
   "display_name": "Python [conda root]",
   "language": "python",
   "name": "conda-root-py"
  },
  "language_info": {
   "codemirror_mode": {
    "name": "ipython",
    "version": 2
   },
   "file_extension": ".py",
   "mimetype": "text/x-python",
   "name": "python",
   "nbconvert_exporter": "python",
   "pygments_lexer": "ipython2",
   "version": "2.7.13"
  }
 },
 "nbformat": 4,
 "nbformat_minor": 2
}
