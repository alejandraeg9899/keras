{
 "cells": [
  {
   "cell_type": "code",
   "execution_count": 1,
   "metadata": {
    "collapsed": false
   },
   "outputs": [
    {
     "name": "stderr",
     "output_type": "stream",
     "text": [
      "Using TensorFlow backend.\n"
     ]
    }
   ],
   "source": [
    "import numpy as np\n",
    "\n",
    "from keras.models import Sequential\n",
    "from keras.layers import Dense, Activation\n",
    "\n",
    "#from keras.utils.visualize_util import plot\n",
    "from keras.utils import plot_model\n",
    "\n"
   ]
  },
  {
   "cell_type": "markdown",
   "metadata": {},
   "source": [
    "\n",
    "## Ejemplo\n",
    "### Red Neuronal de dos capas\n",
    "\n",
    "1. Se define el modelo usando el constructor Sequential.\n",
    "2. Se agrega la primera capa usando Dense y se especifica la dimensión de la entrada que para este caso es de 500 y produce una salida de dimensión 32.\n",
    "3. Se elige la función de activación: Para el ejemplo será Sigmoide.\n",
    "4. Se define la segunda capa usando Dense, produciendo una salida de dimension 1.\n",
    "5. Se selecciona la función de activación sigmoide y la media del error al cuadrado, que se utiliza en regresión.\n",
    "6. Se compila, entrena y evalua el modelo."
   ]
  },
  {
   "cell_type": "code",
   "execution_count": 6,
   "metadata": {
    "collapsed": false
   },
   "outputs": [
    {
     "name": "stdout",
     "output_type": "stream",
     "text": [
      "Antes de el Entrenamiento: [('loss', 0.24933142566680908), ('mean_squared_error', 0.24933142566680908)]\n",
      "Despues del Entrenamiento: [('loss', 0.22850699543952943), ('mean_squared_error', 0.22850699543952943)]\n"
     ]
    }
   ],
   "source": [
    "model = Sequential()\n",
    "model.add(Dense(32, input_dim=500))\n",
    "model.add(Activation(activation='sigmoid'))\n",
    "model.add(Dense(1))\n",
    "model.add(Activation(activation='sigmoid'))\n",
    "model.compile(optimizer='rmsprop', loss='mse', metrics=['mean_squared_error'])\n",
    "data = np.random.random((1000, 500))\n",
    "labels = np.random.randint(2, size=(1000, 1))\n",
    "score = model.evaluate(data,labels, verbose=0)\n",
    "print \"Antes de el Entrenamiento:\", zip(model.metrics_names, score)\n",
    "model.fit(data, labels, epochs=10, batch_size=32, verbose=0)\n",
    "score = model.evaluate(data,labels, verbose=0)\n",
    "print \"Despues del Entrenamiento:\", zip(model.metrics_names, score)"
   ]
  },
  {
   "cell_type": "code",
   "execution_count": 5,
   "metadata": {
    "collapsed": false
   },
   "outputs": [],
   "source": [
    "plot_model(model, to_file='model.png', show_shapes=True)"
   ]
  },
  {
   "cell_type": "markdown",
   "metadata": {},
   "source": [
    "A continuación se muestra el modelo generado por Keras.\n",
    "\n",
    "![](model.png)"
   ]
  },
  {
   "cell_type": "code",
   "execution_count": null,
   "metadata": {
    "collapsed": true
   },
   "outputs": [],
   "source": []
  }
 ],
 "metadata": {
  "anaconda-cloud": {},
  "kernelspec": {
   "display_name": "Python [default]",
   "language": "python",
   "name": "python2"
  },
  "language_info": {
   "codemirror_mode": {
    "name": "ipython",
    "version": 2
   },
   "file_extension": ".py",
   "mimetype": "text/x-python",
   "name": "python",
   "nbconvert_exporter": "python",
   "pygments_lexer": "ipython2",
   "version": "2.7.13"
  }
 },
 "nbformat": 4,
 "nbformat_minor": 2
}
